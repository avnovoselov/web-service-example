{
 "cells": [
  {
   "cell_type": "code",
   "execution_count": 17,
   "outputs": [],
   "source": [
    "import pandas as pd\n",
    "import preprocessors as pp\n",
    "\n",
    "from faker import Faker\n",
    "from IPython.display import display, HTML\n",
    "from manager import save_pipeline\n",
    "from sklearn.datasets import load_boston\n",
    "from sklearn.ensemble import RandomForestRegressor\n",
    "from sklearn.metrics import mean_absolute_error, mean_squared_error\n",
    "from sklearn.pipeline import Pipeline\n",
    "from urllib.parse import urlencode"
   ],
   "metadata": {
    "collapsed": false,
    "pycharm": {
     "name": "#%%\n"
    }
   }
  },
  {
   "cell_type": "markdown",
   "source": [
    "# Обучение модели\n",
    "\n",
    "Обучим модель `RandomForestRegressor` и сделаем `Pipeline` для предобработки признаков.\n",
    "\n",
    "👨‍💻 В демке не будем чистить данные, искать аномалии и строить графики.\n",
    "\n",
    "Для примера возьмем DataFrame с ценами на недвижимость в Бостоне."
   ],
   "metadata": {
    "collapsed": false
   }
  },
  {
   "cell_type": "code",
   "execution_count": 18,
   "outputs": [],
   "source": [
    "boston = load_boston()"
   ],
   "metadata": {
    "collapsed": false,
    "pycharm": {
     "name": "#%%\n"
    }
   }
  },
  {
   "cell_type": "code",
   "execution_count": 19,
   "outputs": [
    {
     "name": "stdout",
     "output_type": "stream",
     "text": [
      ".. _boston_dataset:\n",
      "\n",
      "Boston house prices dataset\n",
      "---------------------------\n",
      "\n",
      "**Data Set Characteristics:**  \n",
      "\n",
      "    :Number of Instances: 506 \n",
      "\n",
      "    :Number of Attributes: 13 numeric/categorical predictive. Median Value (attribute 14) is usually the target.\n",
      "\n",
      "    :Attribute Information (in order):\n",
      "        - CRIM     per capita crime rate by town\n",
      "        - ZN       proportion of residential land zoned for lots over 25,000 sq.ft.\n",
      "        - INDUS    proportion of non-retail business acres per town\n",
      "        - CHAS     Charles River dummy variable (= 1 if tract bounds river; 0 otherwise)\n",
      "        - NOX      nitric oxides concentration (parts per 10 million)\n",
      "        - RM       average number of rooms per dwelling\n",
      "        - AGE      proportion of owner-occupied units built prior to 1940\n",
      "        - DIS      weighted distances to five Boston employment centres\n",
      "        - RAD      index of accessibility to radial highways\n",
      "        - TAX      full-value property-tax rate per $10,000\n",
      "        - PTRATIO  pupil-teacher ratio by town\n",
      "        - B        1000(Bk - 0.63)^2 where Bk is the proportion of blacks by town\n",
      "        - LSTAT    % lower status of the population\n",
      "        - MEDV     Median value of owner-occupied homes in $1000's\n",
      "\n",
      "    :Missing Attribute Values: None\n",
      "\n",
      "    :Creator: Harrison, D. and Rubinfeld, D.L.\n",
      "\n",
      "This is a copy of UCI ML housing dataset.\n",
      "https://archive.ics.uci.edu/ml/machine-learning-databases/housing/\n",
      "\n",
      "\n",
      "This dataset was taken from the StatLib library which is maintained at Carnegie Mellon University.\n",
      "\n",
      "The Boston house-price data of Harrison, D. and Rubinfeld, D.L. 'Hedonic\n",
      "prices and the demand for clean air', J. Environ. Economics & Management,\n",
      "vol.5, 81-102, 1978.   Used in Belsley, Kuh & Welsch, 'Regression diagnostics\n",
      "...', Wiley, 1980.   N.B. Various transformations are used in the table on\n",
      "pages 244-261 of the latter.\n",
      "\n",
      "The Boston house-price data has been used in many machine learning papers that address regression\n",
      "problems.   \n",
      "     \n",
      ".. topic:: References\n",
      "\n",
      "   - Belsley, Kuh & Welsch, 'Regression diagnostics: Identifying Influential Data and Sources of Collinearity', Wiley, 1980. 244-261.\n",
      "   - Quinlan,R. (1993). Combining Instance-Based and Model-Based Learning. In Proceedings on the Tenth International Conference of Machine Learning, 236-243, University of Massachusetts, Amherst. Morgan Kaufmann.\n",
      "\n"
     ]
    }
   ],
   "source": [
    "print(boston.DESCR)"
   ],
   "metadata": {
    "collapsed": false,
    "pycharm": {
     "name": "#%%\n"
    }
   }
  },
  {
   "cell_type": "markdown",
   "source": [
    "## Сгруппируем колонки\n",
    "\n",
    "* `CATEGORICAL_FEATURES` - категорийные фичи\n",
    "* `NUMERICAL_FEATURES` - дискретные фичи, которые прогоним через `scaler`\n",
    "* `REDUNDANT_FEATURES` - всякое лишнее, что не нужно для модели (фичи с признаками мультиколлинеарности, малозначимые фичи)\n",
    "* `TARGET` - целевой признак"
   ],
   "metadata": {
    "collapsed": false
   }
  },
  {
   "cell_type": "code",
   "execution_count": 20,
   "outputs": [],
   "source": [
    "CATEGORICAL_FEATURES = ['RAD']\n",
    "NUMERICAL_FEATURES = ['CRIM', 'ZN', 'INDUS', 'CHAS', 'NOX', 'RM', 'AGE', 'DIS', 'PTRATIO', 'B', 'LSTAT']\n",
    "REDUNDANT_FEATURES = ['DT_1', 'DT_2']\n",
    "TARGET = 'MEDV'"
   ],
   "metadata": {
    "collapsed": false,
    "pycharm": {
     "name": "#%%\n"
    }
   }
  },
  {
   "cell_type": "code",
   "execution_count": 21,
   "outputs": [],
   "source": [
    "df = pd.read_csv(\n",
    "    filepath_or_buffer=boston.filename,\n",
    "    header=1\n",
    ")"
   ],
   "metadata": {
    "collapsed": false,
    "pycharm": {
     "name": "#%%\n"
    }
   }
  },
  {
   "cell_type": "markdown",
   "source": [
    "Добавим столбец с датой и временем в виде строки, для предсказания он не нужен.\n",
    "\n",
    "На нем покажу кастомные обработки полей через pipeline"
   ],
   "metadata": {
    "collapsed": false
   }
  },
  {
   "cell_type": "code",
   "execution_count": 22,
   "outputs": [],
   "source": [
    "faker = Faker()\n",
    "DATETIME_FORMAT = '%d.%m.%Y %H:%M:%S'\n",
    "DATE_FORMAT = '%Y-%m-%d'\n",
    "\n",
    "# Добавим столбец, в котором будет дата и время в формате datetime_format\n",
    "df['DT_1'] = df.apply(lambda x: faker.date_time_between(start_date='-30d', end_date='now').strftime(DATETIME_FORMAT), axis=1)\n",
    "df['DT_2'] = df.apply(lambda x: faker.date_time_between(start_date='now', end_date='+30d').strftime(DATE_FORMAT), axis=1)"
   ],
   "metadata": {
    "collapsed": false,
    "pycharm": {
     "name": "#%%\n"
    }
   }
  },
  {
   "cell_type": "code",
   "execution_count": 23,
   "outputs": [
    {
     "name": "stdout",
     "output_type": "stream",
     "text": [
      "<class 'pandas.core.frame.DataFrame'>\n",
      "RangeIndex: 506 entries, 0 to 505\n",
      "Data columns (total 16 columns):\n",
      " #   Column   Non-Null Count  Dtype  \n",
      "---  ------   --------------  -----  \n",
      " 0   CRIM     506 non-null    float64\n",
      " 1   ZN       506 non-null    float64\n",
      " 2   INDUS    506 non-null    float64\n",
      " 3   CHAS     506 non-null    int64  \n",
      " 4   NOX      506 non-null    float64\n",
      " 5   RM       506 non-null    float64\n",
      " 6   AGE      506 non-null    float64\n",
      " 7   DIS      506 non-null    float64\n",
      " 8   RAD      506 non-null    int64  \n",
      " 9   TAX      506 non-null    int64  \n",
      " 10  PTRATIO  506 non-null    float64\n",
      " 11  B        506 non-null    float64\n",
      " 12  LSTAT    506 non-null    float64\n",
      " 13  MEDV     506 non-null    float64\n",
      " 14  DT_1     506 non-null    object \n",
      " 15  DT_2     506 non-null    object \n",
      "dtypes: float64(11), int64(3), object(2)\n",
      "memory usage: 63.4+ KB\n"
     ]
    }
   ],
   "source": [
    "df.info()"
   ],
   "metadata": {
    "collapsed": false,
    "pycharm": {
     "name": "#%%\n"
    }
   }
  },
  {
   "cell_type": "code",
   "execution_count": 24,
   "outputs": [
    {
     "data": {
      "text/plain": "        CRIM    ZN  INDUS  CHAS    NOX     RM    AGE     DIS  RAD  TAX  \\\n145  2.37934   0.0  19.58     0  0.871  6.130  100.0  1.4191    5  403   \n213  0.14052   0.0  10.59     0  0.489  6.375   32.3  3.9454    4  277   \n78   0.05646   0.0  12.83     0  0.437  6.232   53.7  5.0141    5  398   \n299  0.05561  70.0   2.24     0  0.400  7.041   10.0  7.8278    5  358   \n339  0.05497   0.0   5.19     0  0.515  5.985   45.4  4.8122    5  224   \n..       ...   ...    ...   ...    ...    ...    ...     ...  ...  ...   \n370  6.53876   0.0  18.10     1  0.631  7.016   97.5  1.2024   24  666   \n30   1.13081   0.0   8.14     0  0.538  5.713   94.1  4.2330    4  307   \n169  2.44953   0.0  19.58     0  0.605  6.402   95.2  2.2625    5  403   \n268  0.54050  20.0   3.97     0  0.575  7.470   52.6  2.8720    5  264   \n271  0.16211  20.0   6.96     0  0.464  6.240   16.3  4.4290    3  223   \n\n     PTRATIO       B  LSTAT  MEDV                 DT_1        DT_2  \n145     14.7  172.91  27.80  13.8  03.03.2021 02:53:03  2021-03-22  \n213     18.6  385.81   9.38  28.1  13.02.2021 23:00:49  2021-03-14  \n78      18.7  386.40  12.34  21.2  20.02.2021 14:47:11  2021-03-20  \n299     14.8  371.58   4.74  29.0  12.02.2021 17:15:13  2021-03-23  \n339     20.2  396.90   9.74  19.0  19.02.2021 20:59:44  2021-03-14  \n..       ...     ...    ...   ...                  ...         ...  \n370     20.2  392.05   2.96  50.0  16.02.2021 02:23:42  2021-03-31  \n30      21.0  360.17  22.60  12.7  07.03.2021 22:52:07  2021-03-20  \n169     14.7  330.04  11.32  22.3  11.03.2021 14:50:49  2021-04-04  \n268     13.0  390.30   3.16  43.5  19.02.2021 10:37:27  2021-03-22  \n271     18.6  396.90   6.59  25.2  23.02.2021 14:52:17  2021-03-29  \n\n[455 rows x 16 columns]",
      "text/html": "<div>\n<style scoped>\n    .dataframe tbody tr th:only-of-type {\n        vertical-align: middle;\n    }\n\n    .dataframe tbody tr th {\n        vertical-align: top;\n    }\n\n    .dataframe thead th {\n        text-align: right;\n    }\n</style>\n<table border=\"1\" class=\"dataframe\">\n  <thead>\n    <tr style=\"text-align: right;\">\n      <th></th>\n      <th>CRIM</th>\n      <th>ZN</th>\n      <th>INDUS</th>\n      <th>CHAS</th>\n      <th>NOX</th>\n      <th>RM</th>\n      <th>AGE</th>\n      <th>DIS</th>\n      <th>RAD</th>\n      <th>TAX</th>\n      <th>PTRATIO</th>\n      <th>B</th>\n      <th>LSTAT</th>\n      <th>MEDV</th>\n      <th>DT_1</th>\n      <th>DT_2</th>\n    </tr>\n  </thead>\n  <tbody>\n    <tr>\n      <th>145</th>\n      <td>2.37934</td>\n      <td>0.0</td>\n      <td>19.58</td>\n      <td>0</td>\n      <td>0.871</td>\n      <td>6.130</td>\n      <td>100.0</td>\n      <td>1.4191</td>\n      <td>5</td>\n      <td>403</td>\n      <td>14.7</td>\n      <td>172.91</td>\n      <td>27.80</td>\n      <td>13.8</td>\n      <td>03.03.2021 02:53:03</td>\n      <td>2021-03-22</td>\n    </tr>\n    <tr>\n      <th>213</th>\n      <td>0.14052</td>\n      <td>0.0</td>\n      <td>10.59</td>\n      <td>0</td>\n      <td>0.489</td>\n      <td>6.375</td>\n      <td>32.3</td>\n      <td>3.9454</td>\n      <td>4</td>\n      <td>277</td>\n      <td>18.6</td>\n      <td>385.81</td>\n      <td>9.38</td>\n      <td>28.1</td>\n      <td>13.02.2021 23:00:49</td>\n      <td>2021-03-14</td>\n    </tr>\n    <tr>\n      <th>78</th>\n      <td>0.05646</td>\n      <td>0.0</td>\n      <td>12.83</td>\n      <td>0</td>\n      <td>0.437</td>\n      <td>6.232</td>\n      <td>53.7</td>\n      <td>5.0141</td>\n      <td>5</td>\n      <td>398</td>\n      <td>18.7</td>\n      <td>386.40</td>\n      <td>12.34</td>\n      <td>21.2</td>\n      <td>20.02.2021 14:47:11</td>\n      <td>2021-03-20</td>\n    </tr>\n    <tr>\n      <th>299</th>\n      <td>0.05561</td>\n      <td>70.0</td>\n      <td>2.24</td>\n      <td>0</td>\n      <td>0.400</td>\n      <td>7.041</td>\n      <td>10.0</td>\n      <td>7.8278</td>\n      <td>5</td>\n      <td>358</td>\n      <td>14.8</td>\n      <td>371.58</td>\n      <td>4.74</td>\n      <td>29.0</td>\n      <td>12.02.2021 17:15:13</td>\n      <td>2021-03-23</td>\n    </tr>\n    <tr>\n      <th>339</th>\n      <td>0.05497</td>\n      <td>0.0</td>\n      <td>5.19</td>\n      <td>0</td>\n      <td>0.515</td>\n      <td>5.985</td>\n      <td>45.4</td>\n      <td>4.8122</td>\n      <td>5</td>\n      <td>224</td>\n      <td>20.2</td>\n      <td>396.90</td>\n      <td>9.74</td>\n      <td>19.0</td>\n      <td>19.02.2021 20:59:44</td>\n      <td>2021-03-14</td>\n    </tr>\n    <tr>\n      <th>...</th>\n      <td>...</td>\n      <td>...</td>\n      <td>...</td>\n      <td>...</td>\n      <td>...</td>\n      <td>...</td>\n      <td>...</td>\n      <td>...</td>\n      <td>...</td>\n      <td>...</td>\n      <td>...</td>\n      <td>...</td>\n      <td>...</td>\n      <td>...</td>\n      <td>...</td>\n      <td>...</td>\n    </tr>\n    <tr>\n      <th>370</th>\n      <td>6.53876</td>\n      <td>0.0</td>\n      <td>18.10</td>\n      <td>1</td>\n      <td>0.631</td>\n      <td>7.016</td>\n      <td>97.5</td>\n      <td>1.2024</td>\n      <td>24</td>\n      <td>666</td>\n      <td>20.2</td>\n      <td>392.05</td>\n      <td>2.96</td>\n      <td>50.0</td>\n      <td>16.02.2021 02:23:42</td>\n      <td>2021-03-31</td>\n    </tr>\n    <tr>\n      <th>30</th>\n      <td>1.13081</td>\n      <td>0.0</td>\n      <td>8.14</td>\n      <td>0</td>\n      <td>0.538</td>\n      <td>5.713</td>\n      <td>94.1</td>\n      <td>4.2330</td>\n      <td>4</td>\n      <td>307</td>\n      <td>21.0</td>\n      <td>360.17</td>\n      <td>22.60</td>\n      <td>12.7</td>\n      <td>07.03.2021 22:52:07</td>\n      <td>2021-03-20</td>\n    </tr>\n    <tr>\n      <th>169</th>\n      <td>2.44953</td>\n      <td>0.0</td>\n      <td>19.58</td>\n      <td>0</td>\n      <td>0.605</td>\n      <td>6.402</td>\n      <td>95.2</td>\n      <td>2.2625</td>\n      <td>5</td>\n      <td>403</td>\n      <td>14.7</td>\n      <td>330.04</td>\n      <td>11.32</td>\n      <td>22.3</td>\n      <td>11.03.2021 14:50:49</td>\n      <td>2021-04-04</td>\n    </tr>\n    <tr>\n      <th>268</th>\n      <td>0.54050</td>\n      <td>20.0</td>\n      <td>3.97</td>\n      <td>0</td>\n      <td>0.575</td>\n      <td>7.470</td>\n      <td>52.6</td>\n      <td>2.8720</td>\n      <td>5</td>\n      <td>264</td>\n      <td>13.0</td>\n      <td>390.30</td>\n      <td>3.16</td>\n      <td>43.5</td>\n      <td>19.02.2021 10:37:27</td>\n      <td>2021-03-22</td>\n    </tr>\n    <tr>\n      <th>271</th>\n      <td>0.16211</td>\n      <td>20.0</td>\n      <td>6.96</td>\n      <td>0</td>\n      <td>0.464</td>\n      <td>6.240</td>\n      <td>16.3</td>\n      <td>4.4290</td>\n      <td>3</td>\n      <td>223</td>\n      <td>18.6</td>\n      <td>396.90</td>\n      <td>6.59</td>\n      <td>25.2</td>\n      <td>23.02.2021 14:52:17</td>\n      <td>2021-03-29</td>\n    </tr>\n  </tbody>\n</table>\n<p>455 rows × 16 columns</p>\n</div>"
     },
     "metadata": {},
     "output_type": "display_data"
    },
    {
     "data": {
      "text/plain": "         CRIM    ZN  INDUS  CHAS    NOX     RM    AGE      DIS  RAD  TAX  \\\n1     0.02731   0.0   7.07     0  0.469  6.421   78.9   4.9671    2  242   \n9     0.17004  12.5   7.87     0  0.524  6.004   85.9   6.5921    5  311   \n18    0.80271   0.0   8.14     0  0.538  5.456   36.6   3.7965    4  307   \n35    0.06417   0.0   5.96     0  0.499  5.933   68.2   3.3603    5  279   \n38    0.17505   0.0   5.96     0  0.499  5.966   30.2   3.8473    5  279   \n62    0.11027  25.0   5.13     0  0.453  6.456   67.8   7.2255    8  284   \n65    0.03584  80.0   3.37     0  0.398  6.290   17.8   6.6115    4  337   \n96    0.11504   0.0   2.89     0  0.445  6.163   69.6   3.4952    2  276   \n111   0.10084   0.0  10.01     0  0.547  6.715   81.6   2.6775    6  432   \n115   0.17134   0.0  10.01     0  0.547  5.928   88.2   2.4631    6  432   \n119   0.14476   0.0  10.01     0  0.547  5.731   65.2   2.7592    6  432   \n133   0.32982   0.0  21.89     0  0.624  5.822   95.4   2.4699    4  437   \n142   3.32105   0.0  19.58     1  0.871  5.403  100.0   1.3216    5  403   \n144   2.77974   0.0  19.58     0  0.871  4.903   97.8   1.3459    5  403   \n170   1.20742   0.0  19.58     0  0.605  5.875   94.6   2.4259    5  403   \n174   0.08447   0.0   4.05     0  0.510  5.859   68.7   2.7019    5  296   \n177   0.05425   0.0   4.05     0  0.510  6.315   73.4   3.3175    5  296   \n201   0.03445  82.5   2.03     0  0.415  6.162   38.4   6.2700    2  348   \n206   0.22969   0.0  10.59     0  0.489  6.326   52.5   4.3549    4  277   \n212   0.21719   0.0  10.59     1  0.489  5.807   53.8   3.6526    4  277   \n241   0.10612  30.0   4.93     0  0.428  6.095   65.1   6.3361    6  300   \n242   0.10290  30.0   4.93     0  0.428  6.358   52.9   7.0355    6  300   \n243   0.12757  30.0   4.93     0  0.428  6.393    7.8   7.0355    6  300   \n245   0.19133  22.0   5.86     0  0.431  5.605   70.2   7.9549    7  330   \n246   0.33983  22.0   5.86     0  0.431  6.108   34.9   8.0555    7  330   \n272   0.11460  20.0   6.96     0  0.464  6.538   58.7   3.9175    3  223   \n289   0.04297  52.5   5.32     0  0.405  6.565   22.9   7.3172    6  293   \n292   0.03615  80.0   4.95     0  0.411  6.630   23.4   5.1167    4  245   \n306   0.07503  33.0   2.18     0  0.472  7.420   71.9   3.0992    7  222   \n318   0.40202   0.0   9.90     0  0.544  6.382   67.2   3.5325    4  304   \n334   0.03738   0.0   5.19     0  0.515  6.310   38.5   6.4584    5  224   \n338   0.03306   0.0   5.19     0  0.515  6.059   37.3   4.8122    5  224   \n342   0.02498   0.0   1.89     0  0.518  6.540   59.7   6.2669    1  422   \n344   0.03049  55.0   3.78     0  0.484  6.874   28.1   6.4654    5  370   \n345   0.03113   0.0   4.39     0  0.442  6.014   48.5   8.0136    3  352   \n355   0.10659  80.0   1.91     0  0.413  5.936   19.5  10.5857    4  334   \n366   3.69695   0.0  18.10     0  0.718  4.963   91.4   1.7523   24  666   \n372   8.26725   0.0  18.10     1  0.668  5.875   89.6   1.1296   24  666   \n377   9.82349   0.0  18.10     0  0.671  6.794   98.8   1.3580   24  666   \n379  17.86670   0.0  18.10     0  0.671  6.223  100.0   1.3861   24  666   \n392  11.57790   0.0  18.10     0  0.700  5.036   97.0   1.7700   24  666   \n397   7.67202   0.0  18.10     0  0.693  5.747   98.9   1.6334   24  666   \n434  13.91340   0.0  18.10     0  0.713  6.208   95.0   2.2222   24  666   \n442   5.66637   0.0  18.10     0  0.740  6.219  100.0   2.0048   24  666   \n444  12.80230   0.0  18.10     0  0.740  5.854   96.6   1.8956   24  666   \n445  10.67180   0.0  18.10     0  0.740  6.459   94.8   1.9879   24  666   \n449   7.52601   0.0  18.10     0  0.713  6.417   98.3   2.1850   24  666   \n475   6.39312   0.0  18.10     0  0.584  6.162   97.4   2.2060   24  666   \n484   2.37857   0.0  18.10     0  0.583  5.871   41.9   3.7240   24  666   \n494   0.27957   0.0   9.69     0  0.585  5.926   42.6   2.3817    6  391   \n504   0.10959   0.0  11.93     0  0.573  6.794   89.3   2.3889    1  273   \n\n     PTRATIO       B  LSTAT  MEDV                 DT_1        DT_2  \n1       17.8  396.90   9.14  21.6  11.03.2021 17:13:17  2021-03-14  \n9       15.2  386.71  17.10  18.9  11.03.2021 03:34:22  2021-04-03  \n18      21.0  288.99  11.69  20.2  15.02.2021 02:12:07  2021-03-15  \n35      19.2  396.90   9.68  18.9  08.03.2021 16:24:59  2021-04-09  \n38      19.2  393.43  10.13  24.7  12.03.2021 14:11:43  2021-03-20  \n62      19.7  396.90   6.73  22.2  20.02.2021 14:44:18  2021-03-17  \n65      16.1  396.90   4.67  23.5  28.02.2021 11:50:38  2021-03-30  \n96      18.0  391.83  11.34  21.4  20.02.2021 21:12:28  2021-03-22  \n111     17.8  395.59  10.16  22.8  25.02.2021 01:35:02  2021-04-01  \n115     17.8  344.91  15.76  18.3  23.02.2021 15:47:07  2021-04-10  \n119     17.8  391.50  13.61  19.3  11.02.2021 00:42:08  2021-04-03  \n133     21.2  388.69  15.03  18.4  08.03.2021 10:03:24  2021-03-23  \n142     14.7  396.90  26.82  13.4  28.02.2021 05:03:04  2021-03-23  \n144     14.7  396.90  29.29  11.8  15.02.2021 23:28:58  2021-04-02  \n170     14.7  292.29  14.43  17.4  19.02.2021 05:47:34  2021-04-03  \n174     16.6  393.23   9.64  22.6  16.02.2021 08:29:22  2021-03-19  \n177     16.6  395.60   6.29  24.6  10.03.2021 02:48:19  2021-03-14  \n201     14.7  393.77   7.43  24.1  12.03.2021 09:27:11  2021-03-28  \n206     18.6  394.87  10.97  24.4  18.02.2021 21:40:07  2021-03-15  \n212     18.6  390.94  16.03  22.4  19.02.2021 20:32:53  2021-04-06  \n241     16.6  394.62  12.40  20.1  03.03.2021 04:39:12  2021-04-07  \n242     16.6  372.75  11.22  22.2  10.03.2021 16:13:11  2021-03-28  \n243     16.6  374.71   5.19  23.7  16.02.2021 19:55:59  2021-03-21  \n245     19.1  389.13  18.46  18.5  05.03.2021 09:05:42  2021-03-21  \n246     19.1  390.18   9.16  24.3  27.02.2021 10:27:28  2021-04-02  \n272     18.6  394.96   7.73  24.4  12.02.2021 18:10:57  2021-03-14  \n289     16.6  371.72   9.51  24.8  17.02.2021 06:03:32  2021-04-08  \n292     19.2  396.90   4.70  27.9  12.02.2021 02:26:16  2021-04-05  \n306     18.4  396.90   6.47  33.4  09.03.2021 08:58:37  2021-03-22  \n318     18.4  395.21  10.36  23.1  13.02.2021 14:06:01  2021-03-13  \n334     20.2  389.40   6.75  20.7  26.02.2021 07:29:29  2021-04-03  \n338     20.2  396.14   8.51  20.6  11.03.2021 17:00:14  2021-03-24  \n342     15.9  389.96   8.65  16.5  14.02.2021 18:34:13  2021-03-15  \n344     17.6  387.97   4.61  31.2  27.02.2021 23:47:27  2021-04-08  \n345     18.8  385.64  10.53  17.5  18.02.2021 01:59:07  2021-03-26  \n355     22.0  376.04   5.57  20.6  27.02.2021 20:21:57  2021-04-01  \n366     20.2  316.03  14.00  21.9  02.03.2021 12:04:49  2021-04-10  \n372     20.2  347.88   8.88  50.0  01.03.2021 13:32:08  2021-04-03  \n377     20.2  396.90  21.24  13.3  21.02.2021 08:49:00  2021-03-20  \n379     20.2  393.74  21.78  10.2  20.02.2021 16:56:02  2021-03-18  \n392     20.2  396.90  25.68   9.7  24.02.2021 01:36:23  2021-03-27  \n397     20.2  393.10  19.92   8.5  16.02.2021 14:33:17  2021-04-06  \n434     20.2  100.63  15.17  11.7  18.02.2021 05:44:12  2021-04-07  \n442     20.2  395.69  16.59  18.4  08.03.2021 06:47:52  2021-03-27  \n444     20.2  240.52  23.79  10.8  03.03.2021 07:22:22  2021-03-19  \n445     20.2   43.06  23.98  11.8  12.03.2021 18:34:33  2021-03-17  \n449     20.2  304.21  19.31  13.0  06.03.2021 17:59:56  2021-03-30  \n475     20.2  302.76  24.10  13.3  11.02.2021 20:00:07  2021-03-13  \n484     20.2  370.73  13.34  20.6  18.02.2021 20:00:59  2021-03-31  \n494     19.2  396.90  13.59  24.5  15.02.2021 11:37:40  2021-03-22  \n504     21.0  393.45   6.48  22.0  26.02.2021 23:53:58  2021-04-05  ",
      "text/html": "<div>\n<style scoped>\n    .dataframe tbody tr th:only-of-type {\n        vertical-align: middle;\n    }\n\n    .dataframe tbody tr th {\n        vertical-align: top;\n    }\n\n    .dataframe thead th {\n        text-align: right;\n    }\n</style>\n<table border=\"1\" class=\"dataframe\">\n  <thead>\n    <tr style=\"text-align: right;\">\n      <th></th>\n      <th>CRIM</th>\n      <th>ZN</th>\n      <th>INDUS</th>\n      <th>CHAS</th>\n      <th>NOX</th>\n      <th>RM</th>\n      <th>AGE</th>\n      <th>DIS</th>\n      <th>RAD</th>\n      <th>TAX</th>\n      <th>PTRATIO</th>\n      <th>B</th>\n      <th>LSTAT</th>\n      <th>MEDV</th>\n      <th>DT_1</th>\n      <th>DT_2</th>\n    </tr>\n  </thead>\n  <tbody>\n    <tr>\n      <th>1</th>\n      <td>0.02731</td>\n      <td>0.0</td>\n      <td>7.07</td>\n      <td>0</td>\n      <td>0.469</td>\n      <td>6.421</td>\n      <td>78.9</td>\n      <td>4.9671</td>\n      <td>2</td>\n      <td>242</td>\n      <td>17.8</td>\n      <td>396.90</td>\n      <td>9.14</td>\n      <td>21.6</td>\n      <td>11.03.2021 17:13:17</td>\n      <td>2021-03-14</td>\n    </tr>\n    <tr>\n      <th>9</th>\n      <td>0.17004</td>\n      <td>12.5</td>\n      <td>7.87</td>\n      <td>0</td>\n      <td>0.524</td>\n      <td>6.004</td>\n      <td>85.9</td>\n      <td>6.5921</td>\n      <td>5</td>\n      <td>311</td>\n      <td>15.2</td>\n      <td>386.71</td>\n      <td>17.10</td>\n      <td>18.9</td>\n      <td>11.03.2021 03:34:22</td>\n      <td>2021-04-03</td>\n    </tr>\n    <tr>\n      <th>18</th>\n      <td>0.80271</td>\n      <td>0.0</td>\n      <td>8.14</td>\n      <td>0</td>\n      <td>0.538</td>\n      <td>5.456</td>\n      <td>36.6</td>\n      <td>3.7965</td>\n      <td>4</td>\n      <td>307</td>\n      <td>21.0</td>\n      <td>288.99</td>\n      <td>11.69</td>\n      <td>20.2</td>\n      <td>15.02.2021 02:12:07</td>\n      <td>2021-03-15</td>\n    </tr>\n    <tr>\n      <th>35</th>\n      <td>0.06417</td>\n      <td>0.0</td>\n      <td>5.96</td>\n      <td>0</td>\n      <td>0.499</td>\n      <td>5.933</td>\n      <td>68.2</td>\n      <td>3.3603</td>\n      <td>5</td>\n      <td>279</td>\n      <td>19.2</td>\n      <td>396.90</td>\n      <td>9.68</td>\n      <td>18.9</td>\n      <td>08.03.2021 16:24:59</td>\n      <td>2021-04-09</td>\n    </tr>\n    <tr>\n      <th>38</th>\n      <td>0.17505</td>\n      <td>0.0</td>\n      <td>5.96</td>\n      <td>0</td>\n      <td>0.499</td>\n      <td>5.966</td>\n      <td>30.2</td>\n      <td>3.8473</td>\n      <td>5</td>\n      <td>279</td>\n      <td>19.2</td>\n      <td>393.43</td>\n      <td>10.13</td>\n      <td>24.7</td>\n      <td>12.03.2021 14:11:43</td>\n      <td>2021-03-20</td>\n    </tr>\n    <tr>\n      <th>62</th>\n      <td>0.11027</td>\n      <td>25.0</td>\n      <td>5.13</td>\n      <td>0</td>\n      <td>0.453</td>\n      <td>6.456</td>\n      <td>67.8</td>\n      <td>7.2255</td>\n      <td>8</td>\n      <td>284</td>\n      <td>19.7</td>\n      <td>396.90</td>\n      <td>6.73</td>\n      <td>22.2</td>\n      <td>20.02.2021 14:44:18</td>\n      <td>2021-03-17</td>\n    </tr>\n    <tr>\n      <th>65</th>\n      <td>0.03584</td>\n      <td>80.0</td>\n      <td>3.37</td>\n      <td>0</td>\n      <td>0.398</td>\n      <td>6.290</td>\n      <td>17.8</td>\n      <td>6.6115</td>\n      <td>4</td>\n      <td>337</td>\n      <td>16.1</td>\n      <td>396.90</td>\n      <td>4.67</td>\n      <td>23.5</td>\n      <td>28.02.2021 11:50:38</td>\n      <td>2021-03-30</td>\n    </tr>\n    <tr>\n      <th>96</th>\n      <td>0.11504</td>\n      <td>0.0</td>\n      <td>2.89</td>\n      <td>0</td>\n      <td>0.445</td>\n      <td>6.163</td>\n      <td>69.6</td>\n      <td>3.4952</td>\n      <td>2</td>\n      <td>276</td>\n      <td>18.0</td>\n      <td>391.83</td>\n      <td>11.34</td>\n      <td>21.4</td>\n      <td>20.02.2021 21:12:28</td>\n      <td>2021-03-22</td>\n    </tr>\n    <tr>\n      <th>111</th>\n      <td>0.10084</td>\n      <td>0.0</td>\n      <td>10.01</td>\n      <td>0</td>\n      <td>0.547</td>\n      <td>6.715</td>\n      <td>81.6</td>\n      <td>2.6775</td>\n      <td>6</td>\n      <td>432</td>\n      <td>17.8</td>\n      <td>395.59</td>\n      <td>10.16</td>\n      <td>22.8</td>\n      <td>25.02.2021 01:35:02</td>\n      <td>2021-04-01</td>\n    </tr>\n    <tr>\n      <th>115</th>\n      <td>0.17134</td>\n      <td>0.0</td>\n      <td>10.01</td>\n      <td>0</td>\n      <td>0.547</td>\n      <td>5.928</td>\n      <td>88.2</td>\n      <td>2.4631</td>\n      <td>6</td>\n      <td>432</td>\n      <td>17.8</td>\n      <td>344.91</td>\n      <td>15.76</td>\n      <td>18.3</td>\n      <td>23.02.2021 15:47:07</td>\n      <td>2021-04-10</td>\n    </tr>\n    <tr>\n      <th>119</th>\n      <td>0.14476</td>\n      <td>0.0</td>\n      <td>10.01</td>\n      <td>0</td>\n      <td>0.547</td>\n      <td>5.731</td>\n      <td>65.2</td>\n      <td>2.7592</td>\n      <td>6</td>\n      <td>432</td>\n      <td>17.8</td>\n      <td>391.50</td>\n      <td>13.61</td>\n      <td>19.3</td>\n      <td>11.02.2021 00:42:08</td>\n      <td>2021-04-03</td>\n    </tr>\n    <tr>\n      <th>133</th>\n      <td>0.32982</td>\n      <td>0.0</td>\n      <td>21.89</td>\n      <td>0</td>\n      <td>0.624</td>\n      <td>5.822</td>\n      <td>95.4</td>\n      <td>2.4699</td>\n      <td>4</td>\n      <td>437</td>\n      <td>21.2</td>\n      <td>388.69</td>\n      <td>15.03</td>\n      <td>18.4</td>\n      <td>08.03.2021 10:03:24</td>\n      <td>2021-03-23</td>\n    </tr>\n    <tr>\n      <th>142</th>\n      <td>3.32105</td>\n      <td>0.0</td>\n      <td>19.58</td>\n      <td>1</td>\n      <td>0.871</td>\n      <td>5.403</td>\n      <td>100.0</td>\n      <td>1.3216</td>\n      <td>5</td>\n      <td>403</td>\n      <td>14.7</td>\n      <td>396.90</td>\n      <td>26.82</td>\n      <td>13.4</td>\n      <td>28.02.2021 05:03:04</td>\n      <td>2021-03-23</td>\n    </tr>\n    <tr>\n      <th>144</th>\n      <td>2.77974</td>\n      <td>0.0</td>\n      <td>19.58</td>\n      <td>0</td>\n      <td>0.871</td>\n      <td>4.903</td>\n      <td>97.8</td>\n      <td>1.3459</td>\n      <td>5</td>\n      <td>403</td>\n      <td>14.7</td>\n      <td>396.90</td>\n      <td>29.29</td>\n      <td>11.8</td>\n      <td>15.02.2021 23:28:58</td>\n      <td>2021-04-02</td>\n    </tr>\n    <tr>\n      <th>170</th>\n      <td>1.20742</td>\n      <td>0.0</td>\n      <td>19.58</td>\n      <td>0</td>\n      <td>0.605</td>\n      <td>5.875</td>\n      <td>94.6</td>\n      <td>2.4259</td>\n      <td>5</td>\n      <td>403</td>\n      <td>14.7</td>\n      <td>292.29</td>\n      <td>14.43</td>\n      <td>17.4</td>\n      <td>19.02.2021 05:47:34</td>\n      <td>2021-04-03</td>\n    </tr>\n    <tr>\n      <th>174</th>\n      <td>0.08447</td>\n      <td>0.0</td>\n      <td>4.05</td>\n      <td>0</td>\n      <td>0.510</td>\n      <td>5.859</td>\n      <td>68.7</td>\n      <td>2.7019</td>\n      <td>5</td>\n      <td>296</td>\n      <td>16.6</td>\n      <td>393.23</td>\n      <td>9.64</td>\n      <td>22.6</td>\n      <td>16.02.2021 08:29:22</td>\n      <td>2021-03-19</td>\n    </tr>\n    <tr>\n      <th>177</th>\n      <td>0.05425</td>\n      <td>0.0</td>\n      <td>4.05</td>\n      <td>0</td>\n      <td>0.510</td>\n      <td>6.315</td>\n      <td>73.4</td>\n      <td>3.3175</td>\n      <td>5</td>\n      <td>296</td>\n      <td>16.6</td>\n      <td>395.60</td>\n      <td>6.29</td>\n      <td>24.6</td>\n      <td>10.03.2021 02:48:19</td>\n      <td>2021-03-14</td>\n    </tr>\n    <tr>\n      <th>201</th>\n      <td>0.03445</td>\n      <td>82.5</td>\n      <td>2.03</td>\n      <td>0</td>\n      <td>0.415</td>\n      <td>6.162</td>\n      <td>38.4</td>\n      <td>6.2700</td>\n      <td>2</td>\n      <td>348</td>\n      <td>14.7</td>\n      <td>393.77</td>\n      <td>7.43</td>\n      <td>24.1</td>\n      <td>12.03.2021 09:27:11</td>\n      <td>2021-03-28</td>\n    </tr>\n    <tr>\n      <th>206</th>\n      <td>0.22969</td>\n      <td>0.0</td>\n      <td>10.59</td>\n      <td>0</td>\n      <td>0.489</td>\n      <td>6.326</td>\n      <td>52.5</td>\n      <td>4.3549</td>\n      <td>4</td>\n      <td>277</td>\n      <td>18.6</td>\n      <td>394.87</td>\n      <td>10.97</td>\n      <td>24.4</td>\n      <td>18.02.2021 21:40:07</td>\n      <td>2021-03-15</td>\n    </tr>\n    <tr>\n      <th>212</th>\n      <td>0.21719</td>\n      <td>0.0</td>\n      <td>10.59</td>\n      <td>1</td>\n      <td>0.489</td>\n      <td>5.807</td>\n      <td>53.8</td>\n      <td>3.6526</td>\n      <td>4</td>\n      <td>277</td>\n      <td>18.6</td>\n      <td>390.94</td>\n      <td>16.03</td>\n      <td>22.4</td>\n      <td>19.02.2021 20:32:53</td>\n      <td>2021-04-06</td>\n    </tr>\n    <tr>\n      <th>241</th>\n      <td>0.10612</td>\n      <td>30.0</td>\n      <td>4.93</td>\n      <td>0</td>\n      <td>0.428</td>\n      <td>6.095</td>\n      <td>65.1</td>\n      <td>6.3361</td>\n      <td>6</td>\n      <td>300</td>\n      <td>16.6</td>\n      <td>394.62</td>\n      <td>12.40</td>\n      <td>20.1</td>\n      <td>03.03.2021 04:39:12</td>\n      <td>2021-04-07</td>\n    </tr>\n    <tr>\n      <th>242</th>\n      <td>0.10290</td>\n      <td>30.0</td>\n      <td>4.93</td>\n      <td>0</td>\n      <td>0.428</td>\n      <td>6.358</td>\n      <td>52.9</td>\n      <td>7.0355</td>\n      <td>6</td>\n      <td>300</td>\n      <td>16.6</td>\n      <td>372.75</td>\n      <td>11.22</td>\n      <td>22.2</td>\n      <td>10.03.2021 16:13:11</td>\n      <td>2021-03-28</td>\n    </tr>\n    <tr>\n      <th>243</th>\n      <td>0.12757</td>\n      <td>30.0</td>\n      <td>4.93</td>\n      <td>0</td>\n      <td>0.428</td>\n      <td>6.393</td>\n      <td>7.8</td>\n      <td>7.0355</td>\n      <td>6</td>\n      <td>300</td>\n      <td>16.6</td>\n      <td>374.71</td>\n      <td>5.19</td>\n      <td>23.7</td>\n      <td>16.02.2021 19:55:59</td>\n      <td>2021-03-21</td>\n    </tr>\n    <tr>\n      <th>245</th>\n      <td>0.19133</td>\n      <td>22.0</td>\n      <td>5.86</td>\n      <td>0</td>\n      <td>0.431</td>\n      <td>5.605</td>\n      <td>70.2</td>\n      <td>7.9549</td>\n      <td>7</td>\n      <td>330</td>\n      <td>19.1</td>\n      <td>389.13</td>\n      <td>18.46</td>\n      <td>18.5</td>\n      <td>05.03.2021 09:05:42</td>\n      <td>2021-03-21</td>\n    </tr>\n    <tr>\n      <th>246</th>\n      <td>0.33983</td>\n      <td>22.0</td>\n      <td>5.86</td>\n      <td>0</td>\n      <td>0.431</td>\n      <td>6.108</td>\n      <td>34.9</td>\n      <td>8.0555</td>\n      <td>7</td>\n      <td>330</td>\n      <td>19.1</td>\n      <td>390.18</td>\n      <td>9.16</td>\n      <td>24.3</td>\n      <td>27.02.2021 10:27:28</td>\n      <td>2021-04-02</td>\n    </tr>\n    <tr>\n      <th>272</th>\n      <td>0.11460</td>\n      <td>20.0</td>\n      <td>6.96</td>\n      <td>0</td>\n      <td>0.464</td>\n      <td>6.538</td>\n      <td>58.7</td>\n      <td>3.9175</td>\n      <td>3</td>\n      <td>223</td>\n      <td>18.6</td>\n      <td>394.96</td>\n      <td>7.73</td>\n      <td>24.4</td>\n      <td>12.02.2021 18:10:57</td>\n      <td>2021-03-14</td>\n    </tr>\n    <tr>\n      <th>289</th>\n      <td>0.04297</td>\n      <td>52.5</td>\n      <td>5.32</td>\n      <td>0</td>\n      <td>0.405</td>\n      <td>6.565</td>\n      <td>22.9</td>\n      <td>7.3172</td>\n      <td>6</td>\n      <td>293</td>\n      <td>16.6</td>\n      <td>371.72</td>\n      <td>9.51</td>\n      <td>24.8</td>\n      <td>17.02.2021 06:03:32</td>\n      <td>2021-04-08</td>\n    </tr>\n    <tr>\n      <th>292</th>\n      <td>0.03615</td>\n      <td>80.0</td>\n      <td>4.95</td>\n      <td>0</td>\n      <td>0.411</td>\n      <td>6.630</td>\n      <td>23.4</td>\n      <td>5.1167</td>\n      <td>4</td>\n      <td>245</td>\n      <td>19.2</td>\n      <td>396.90</td>\n      <td>4.70</td>\n      <td>27.9</td>\n      <td>12.02.2021 02:26:16</td>\n      <td>2021-04-05</td>\n    </tr>\n    <tr>\n      <th>306</th>\n      <td>0.07503</td>\n      <td>33.0</td>\n      <td>2.18</td>\n      <td>0</td>\n      <td>0.472</td>\n      <td>7.420</td>\n      <td>71.9</td>\n      <td>3.0992</td>\n      <td>7</td>\n      <td>222</td>\n      <td>18.4</td>\n      <td>396.90</td>\n      <td>6.47</td>\n      <td>33.4</td>\n      <td>09.03.2021 08:58:37</td>\n      <td>2021-03-22</td>\n    </tr>\n    <tr>\n      <th>318</th>\n      <td>0.40202</td>\n      <td>0.0</td>\n      <td>9.90</td>\n      <td>0</td>\n      <td>0.544</td>\n      <td>6.382</td>\n      <td>67.2</td>\n      <td>3.5325</td>\n      <td>4</td>\n      <td>304</td>\n      <td>18.4</td>\n      <td>395.21</td>\n      <td>10.36</td>\n      <td>23.1</td>\n      <td>13.02.2021 14:06:01</td>\n      <td>2021-03-13</td>\n    </tr>\n    <tr>\n      <th>334</th>\n      <td>0.03738</td>\n      <td>0.0</td>\n      <td>5.19</td>\n      <td>0</td>\n      <td>0.515</td>\n      <td>6.310</td>\n      <td>38.5</td>\n      <td>6.4584</td>\n      <td>5</td>\n      <td>224</td>\n      <td>20.2</td>\n      <td>389.40</td>\n      <td>6.75</td>\n      <td>20.7</td>\n      <td>26.02.2021 07:29:29</td>\n      <td>2021-04-03</td>\n    </tr>\n    <tr>\n      <th>338</th>\n      <td>0.03306</td>\n      <td>0.0</td>\n      <td>5.19</td>\n      <td>0</td>\n      <td>0.515</td>\n      <td>6.059</td>\n      <td>37.3</td>\n      <td>4.8122</td>\n      <td>5</td>\n      <td>224</td>\n      <td>20.2</td>\n      <td>396.14</td>\n      <td>8.51</td>\n      <td>20.6</td>\n      <td>11.03.2021 17:00:14</td>\n      <td>2021-03-24</td>\n    </tr>\n    <tr>\n      <th>342</th>\n      <td>0.02498</td>\n      <td>0.0</td>\n      <td>1.89</td>\n      <td>0</td>\n      <td>0.518</td>\n      <td>6.540</td>\n      <td>59.7</td>\n      <td>6.2669</td>\n      <td>1</td>\n      <td>422</td>\n      <td>15.9</td>\n      <td>389.96</td>\n      <td>8.65</td>\n      <td>16.5</td>\n      <td>14.02.2021 18:34:13</td>\n      <td>2021-03-15</td>\n    </tr>\n    <tr>\n      <th>344</th>\n      <td>0.03049</td>\n      <td>55.0</td>\n      <td>3.78</td>\n      <td>0</td>\n      <td>0.484</td>\n      <td>6.874</td>\n      <td>28.1</td>\n      <td>6.4654</td>\n      <td>5</td>\n      <td>370</td>\n      <td>17.6</td>\n      <td>387.97</td>\n      <td>4.61</td>\n      <td>31.2</td>\n      <td>27.02.2021 23:47:27</td>\n      <td>2021-04-08</td>\n    </tr>\n    <tr>\n      <th>345</th>\n      <td>0.03113</td>\n      <td>0.0</td>\n      <td>4.39</td>\n      <td>0</td>\n      <td>0.442</td>\n      <td>6.014</td>\n      <td>48.5</td>\n      <td>8.0136</td>\n      <td>3</td>\n      <td>352</td>\n      <td>18.8</td>\n      <td>385.64</td>\n      <td>10.53</td>\n      <td>17.5</td>\n      <td>18.02.2021 01:59:07</td>\n      <td>2021-03-26</td>\n    </tr>\n    <tr>\n      <th>355</th>\n      <td>0.10659</td>\n      <td>80.0</td>\n      <td>1.91</td>\n      <td>0</td>\n      <td>0.413</td>\n      <td>5.936</td>\n      <td>19.5</td>\n      <td>10.5857</td>\n      <td>4</td>\n      <td>334</td>\n      <td>22.0</td>\n      <td>376.04</td>\n      <td>5.57</td>\n      <td>20.6</td>\n      <td>27.02.2021 20:21:57</td>\n      <td>2021-04-01</td>\n    </tr>\n    <tr>\n      <th>366</th>\n      <td>3.69695</td>\n      <td>0.0</td>\n      <td>18.10</td>\n      <td>0</td>\n      <td>0.718</td>\n      <td>4.963</td>\n      <td>91.4</td>\n      <td>1.7523</td>\n      <td>24</td>\n      <td>666</td>\n      <td>20.2</td>\n      <td>316.03</td>\n      <td>14.00</td>\n      <td>21.9</td>\n      <td>02.03.2021 12:04:49</td>\n      <td>2021-04-10</td>\n    </tr>\n    <tr>\n      <th>372</th>\n      <td>8.26725</td>\n      <td>0.0</td>\n      <td>18.10</td>\n      <td>1</td>\n      <td>0.668</td>\n      <td>5.875</td>\n      <td>89.6</td>\n      <td>1.1296</td>\n      <td>24</td>\n      <td>666</td>\n      <td>20.2</td>\n      <td>347.88</td>\n      <td>8.88</td>\n      <td>50.0</td>\n      <td>01.03.2021 13:32:08</td>\n      <td>2021-04-03</td>\n    </tr>\n    <tr>\n      <th>377</th>\n      <td>9.82349</td>\n      <td>0.0</td>\n      <td>18.10</td>\n      <td>0</td>\n      <td>0.671</td>\n      <td>6.794</td>\n      <td>98.8</td>\n      <td>1.3580</td>\n      <td>24</td>\n      <td>666</td>\n      <td>20.2</td>\n      <td>396.90</td>\n      <td>21.24</td>\n      <td>13.3</td>\n      <td>21.02.2021 08:49:00</td>\n      <td>2021-03-20</td>\n    </tr>\n    <tr>\n      <th>379</th>\n      <td>17.86670</td>\n      <td>0.0</td>\n      <td>18.10</td>\n      <td>0</td>\n      <td>0.671</td>\n      <td>6.223</td>\n      <td>100.0</td>\n      <td>1.3861</td>\n      <td>24</td>\n      <td>666</td>\n      <td>20.2</td>\n      <td>393.74</td>\n      <td>21.78</td>\n      <td>10.2</td>\n      <td>20.02.2021 16:56:02</td>\n      <td>2021-03-18</td>\n    </tr>\n    <tr>\n      <th>392</th>\n      <td>11.57790</td>\n      <td>0.0</td>\n      <td>18.10</td>\n      <td>0</td>\n      <td>0.700</td>\n      <td>5.036</td>\n      <td>97.0</td>\n      <td>1.7700</td>\n      <td>24</td>\n      <td>666</td>\n      <td>20.2</td>\n      <td>396.90</td>\n      <td>25.68</td>\n      <td>9.7</td>\n      <td>24.02.2021 01:36:23</td>\n      <td>2021-03-27</td>\n    </tr>\n    <tr>\n      <th>397</th>\n      <td>7.67202</td>\n      <td>0.0</td>\n      <td>18.10</td>\n      <td>0</td>\n      <td>0.693</td>\n      <td>5.747</td>\n      <td>98.9</td>\n      <td>1.6334</td>\n      <td>24</td>\n      <td>666</td>\n      <td>20.2</td>\n      <td>393.10</td>\n      <td>19.92</td>\n      <td>8.5</td>\n      <td>16.02.2021 14:33:17</td>\n      <td>2021-04-06</td>\n    </tr>\n    <tr>\n      <th>434</th>\n      <td>13.91340</td>\n      <td>0.0</td>\n      <td>18.10</td>\n      <td>0</td>\n      <td>0.713</td>\n      <td>6.208</td>\n      <td>95.0</td>\n      <td>2.2222</td>\n      <td>24</td>\n      <td>666</td>\n      <td>20.2</td>\n      <td>100.63</td>\n      <td>15.17</td>\n      <td>11.7</td>\n      <td>18.02.2021 05:44:12</td>\n      <td>2021-04-07</td>\n    </tr>\n    <tr>\n      <th>442</th>\n      <td>5.66637</td>\n      <td>0.0</td>\n      <td>18.10</td>\n      <td>0</td>\n      <td>0.740</td>\n      <td>6.219</td>\n      <td>100.0</td>\n      <td>2.0048</td>\n      <td>24</td>\n      <td>666</td>\n      <td>20.2</td>\n      <td>395.69</td>\n      <td>16.59</td>\n      <td>18.4</td>\n      <td>08.03.2021 06:47:52</td>\n      <td>2021-03-27</td>\n    </tr>\n    <tr>\n      <th>444</th>\n      <td>12.80230</td>\n      <td>0.0</td>\n      <td>18.10</td>\n      <td>0</td>\n      <td>0.740</td>\n      <td>5.854</td>\n      <td>96.6</td>\n      <td>1.8956</td>\n      <td>24</td>\n      <td>666</td>\n      <td>20.2</td>\n      <td>240.52</td>\n      <td>23.79</td>\n      <td>10.8</td>\n      <td>03.03.2021 07:22:22</td>\n      <td>2021-03-19</td>\n    </tr>\n    <tr>\n      <th>445</th>\n      <td>10.67180</td>\n      <td>0.0</td>\n      <td>18.10</td>\n      <td>0</td>\n      <td>0.740</td>\n      <td>6.459</td>\n      <td>94.8</td>\n      <td>1.9879</td>\n      <td>24</td>\n      <td>666</td>\n      <td>20.2</td>\n      <td>43.06</td>\n      <td>23.98</td>\n      <td>11.8</td>\n      <td>12.03.2021 18:34:33</td>\n      <td>2021-03-17</td>\n    </tr>\n    <tr>\n      <th>449</th>\n      <td>7.52601</td>\n      <td>0.0</td>\n      <td>18.10</td>\n      <td>0</td>\n      <td>0.713</td>\n      <td>6.417</td>\n      <td>98.3</td>\n      <td>2.1850</td>\n      <td>24</td>\n      <td>666</td>\n      <td>20.2</td>\n      <td>304.21</td>\n      <td>19.31</td>\n      <td>13.0</td>\n      <td>06.03.2021 17:59:56</td>\n      <td>2021-03-30</td>\n    </tr>\n    <tr>\n      <th>475</th>\n      <td>6.39312</td>\n      <td>0.0</td>\n      <td>18.10</td>\n      <td>0</td>\n      <td>0.584</td>\n      <td>6.162</td>\n      <td>97.4</td>\n      <td>2.2060</td>\n      <td>24</td>\n      <td>666</td>\n      <td>20.2</td>\n      <td>302.76</td>\n      <td>24.10</td>\n      <td>13.3</td>\n      <td>11.02.2021 20:00:07</td>\n      <td>2021-03-13</td>\n    </tr>\n    <tr>\n      <th>484</th>\n      <td>2.37857</td>\n      <td>0.0</td>\n      <td>18.10</td>\n      <td>0</td>\n      <td>0.583</td>\n      <td>5.871</td>\n      <td>41.9</td>\n      <td>3.7240</td>\n      <td>24</td>\n      <td>666</td>\n      <td>20.2</td>\n      <td>370.73</td>\n      <td>13.34</td>\n      <td>20.6</td>\n      <td>18.02.2021 20:00:59</td>\n      <td>2021-03-31</td>\n    </tr>\n    <tr>\n      <th>494</th>\n      <td>0.27957</td>\n      <td>0.0</td>\n      <td>9.69</td>\n      <td>0</td>\n      <td>0.585</td>\n      <td>5.926</td>\n      <td>42.6</td>\n      <td>2.3817</td>\n      <td>6</td>\n      <td>391</td>\n      <td>19.2</td>\n      <td>396.90</td>\n      <td>13.59</td>\n      <td>24.5</td>\n      <td>15.02.2021 11:37:40</td>\n      <td>2021-03-22</td>\n    </tr>\n    <tr>\n      <th>504</th>\n      <td>0.10959</td>\n      <td>0.0</td>\n      <td>11.93</td>\n      <td>0</td>\n      <td>0.573</td>\n      <td>6.794</td>\n      <td>89.3</td>\n      <td>2.3889</td>\n      <td>1</td>\n      <td>273</td>\n      <td>21.0</td>\n      <td>393.45</td>\n      <td>6.48</td>\n      <td>22.0</td>\n      <td>26.02.2021 23:53:58</td>\n      <td>2021-04-05</td>\n    </tr>\n  </tbody>\n</table>\n</div>"
     },
     "metadata": {},
     "output_type": "display_data"
    }
   ],
   "source": [
    "# разделим данные на обучающую и тестовую выборки\n",
    "\n",
    "train_df = df.sample(frac=.90)\n",
    "\n",
    "test_df = df.drop(train_df.index, axis=0)\n",
    "\n",
    "display(train_df)\n",
    "display(test_df)"
   ],
   "metadata": {
    "collapsed": false,
    "pycharm": {
     "name": "#%%\n"
    }
   }
  },
  {
   "cell_type": "code",
   "execution_count": 25,
   "outputs": [],
   "source": [
    "# Можно раскомментировать # ('Info N', Info()), чтобы увидеть,\n",
    "# что происходит внутри pipeline-а\n",
    "\n",
    "pipeline = Pipeline([\n",
    "    # ('Info 1', Info()),\n",
    "    ('Datetime parser 1', pp.DateTimeParser(column=REDUNDANT_FEATURES[0], datetime_format=DATETIME_FORMAT)),\n",
    "    ('Datetime parser 2', pp.DateTimeParser(column=REDUNDANT_FEATURES[1], datetime_format=DATE_FORMAT)),\n",
    "    # ('Info 2', Info()),\n",
    "    # ('Info 3', Info()),\n",
    "    ('Drop', pp.Drop(columns=REDUNDANT_FEATURES)),\n",
    "    # ('Info 4', Info()),\n",
    "    ('Scale', pp.Scaler(columns=NUMERICAL_FEATURES)),\n",
    "    # ('Info 5', Info()),\n",
    "    ('Forest', RandomForestRegressor(n_estimators=100, max_depth=8, n_jobs=-1))\n",
    "], verbose=True)"
   ],
   "metadata": {
    "collapsed": false,
    "pycharm": {
     "name": "#%%\n"
    }
   }
  },
  {
   "cell_type": "code",
   "execution_count": 26,
   "outputs": [
    {
     "name": "stdout",
     "output_type": "stream",
     "text": [
      "[Pipeline] . (step 1 of 5) Processing Datetime parser 1, total=   0.0s\n",
      "[Pipeline] . (step 2 of 5) Processing Datetime parser 2, total=   0.0s\n",
      "[Pipeline] .............. (step 3 of 5) Processing Drop, total=   0.0s\n",
      "[Pipeline] ............. (step 4 of 5) Processing Scale, total=   0.0s\n",
      "[Pipeline] ............ (step 5 of 5) Processing Forest, total=   0.2s\n"
     ]
    },
    {
     "data": {
      "text/plain": "'Ok!'"
     },
     "execution_count": 26,
     "metadata": {},
     "output_type": "execute_result"
    }
   ],
   "source": [
    "pipeline.fit(train_df.drop(columns=TARGET), train_df[TARGET])\n",
    "'Ok!'"
   ],
   "metadata": {
    "collapsed": false,
    "pycharm": {
     "name": "#%%\n"
    }
   }
  },
  {
   "cell_type": "code",
   "execution_count": 27,
   "outputs": [
    {
     "data": {
      "text/plain": "'RMSE: 2.6043 MAE: 1.9001'"
     },
     "execution_count": 27,
     "metadata": {},
     "output_type": "execute_result"
    }
   ],
   "source": [
    "predicted = pipeline.predict(test_df.drop(columns=TARGET))\n",
    "\n",
    "rmse = mean_squared_error(test_df[TARGET], predicted) ** .5\n",
    "mae = mean_absolute_error(test_df[TARGET], predicted)\n",
    "\n",
    "'RMSE: {:.4f} MAE: {:.4f}'.format(rmse, mae)"
   ],
   "metadata": {
    "collapsed": false,
    "pycharm": {
     "name": "#%%\n"
    }
   }
  },
  {
   "cell_type": "code",
   "execution_count": 28,
   "outputs": [],
   "source": [
    "save_pipeline(pipeline=pipeline, file_path='./trained_model/forest.pickle')"
   ],
   "metadata": {
    "collapsed": false,
    "pycharm": {
     "name": "#%%\n"
    }
   }
  },
  {
   "cell_type": "code",
   "execution_count": 30,
   "outputs": [
    {
     "data": {
      "text/plain": "'http://0.0.0.0:5000/predict?CRIM=2.37934&ZN=0.0&INDUS=19.58&CHAS=0&NOX=0.871&RM=6.13&AGE=100.0&DIS=1.4191&RAD=5&TAX=403&PTRATIO=14.7&B=172.91&LSTAT=27.8&MEDV=13.8&DT_1=03.03.2021+02%3A53%3A03&DT_2=2021-03-22'"
     },
     "execution_count": 30,
     "metadata": {},
     "output_type": "execute_result"
    }
   ],
   "source": [
    "# Эта ссылка нам еще понадобится после запуска сервера\n",
    "\n",
    "f'http://0.0.0.0:5000/predict?{urlencode(train_df.iloc[0].to_dict())}'"
   ],
   "metadata": {
    "collapsed": false,
    "pycharm": {
     "name": "#%%\n"
    }
   }
  },
  {
   "cell_type": "code",
   "execution_count": 29,
   "metadata": {
    "collapsed": true
   },
   "outputs": [],
   "source": []
  }
 ],
 "metadata": {
  "kernelspec": {
   "display_name": "Python 3",
   "language": "python",
   "name": "python3"
  },
  "language_info": {
   "codemirror_mode": {
    "name": "ipython",
    "version": 2
   },
   "file_extension": ".py",
   "mimetype": "text/x-python",
   "name": "python",
   "nbconvert_exporter": "python",
   "pygments_lexer": "ipython2",
   "version": "2.7.6"
  }
 },
 "nbformat": 4,
 "nbformat_minor": 0
}